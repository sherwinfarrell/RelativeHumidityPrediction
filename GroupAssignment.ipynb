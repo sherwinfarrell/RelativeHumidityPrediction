{
 "cells": [
  {
   "cell_type": "code",
   "execution_count": 1,
   "metadata": {},
   "outputs": [
    {
     "name": "stderr",
     "output_type": "stream",
     "text": [
      "C:\\Users\\sherwin\\anaconda3\\lib\\site-packages\\IPython\\core\\interactiveshell.py:3071: DtypeWarning: Columns (1,2,4,5,6,7,8,9,10,11,12,13,14,15) have mixed types.Specify dtype option on import or set low_memory=False.\n",
      "  has_raised = await self.run_ast_nodes(code_ast.body, cell_name,\n"
     ]
    }
   ],
   "source": [
    "import numpy as np\n",
    "import pandas as pd \n",
    "df = pd.read_csv(\"HumidityDataset.csv\")"
   ]
  },
  {
   "cell_type": "code",
   "execution_count": 2,
   "metadata": {},
   "outputs": [
    {
     "data": {
      "text/html": [
       "<div>\n",
       "<style scoped>\n",
       "    .dataframe tbody tr th:only-of-type {\n",
       "        vertical-align: middle;\n",
       "    }\n",
       "\n",
       "    .dataframe tbody tr th {\n",
       "        vertical-align: top;\n",
       "    }\n",
       "\n",
       "    .dataframe thead th {\n",
       "        text-align: right;\n",
       "    }\n",
       "</style>\n",
       "<table border=\"1\" class=\"dataframe\">\n",
       "  <thead>\n",
       "    <tr style=\"text-align: right;\">\n",
       "      <th></th>\n",
       "      <th>station_id</th>\n",
       "      <th>longitude</th>\n",
       "      <th>latitude</th>\n",
       "      <th>time</th>\n",
       "      <th>AtmosphericPressure</th>\n",
       "      <th>WindDirection</th>\n",
       "      <th>WindSpeed</th>\n",
       "      <th>Gust</th>\n",
       "      <th>WaveHeight</th>\n",
       "      <th>WavePeriod</th>\n",
       "      <th>MeanWaveDirection</th>\n",
       "      <th>Hmax</th>\n",
       "      <th>AirTemperature</th>\n",
       "      <th>DewPoint</th>\n",
       "      <th>SeaTemperature</th>\n",
       "      <th>RelativeHumidity</th>\n",
       "      <th>QC_Flag</th>\n",
       "    </tr>\n",
       "  </thead>\n",
       "  <tbody>\n",
       "    <tr>\n",
       "      <th>0</th>\n",
       "      <td>NaN</td>\n",
       "      <td>degrees_east</td>\n",
       "      <td>degrees_north</td>\n",
       "      <td>UTC</td>\n",
       "      <td>millibars</td>\n",
       "      <td>degrees true</td>\n",
       "      <td>knots</td>\n",
       "      <td>knots</td>\n",
       "      <td>meters</td>\n",
       "      <td>seconds</td>\n",
       "      <td>degrees_true</td>\n",
       "      <td>meters</td>\n",
       "      <td>degrees_C</td>\n",
       "      <td>degrees_C</td>\n",
       "      <td>degrees_C</td>\n",
       "      <td>percent</td>\n",
       "      <td>NaN</td>\n",
       "    </tr>\n",
       "    <tr>\n",
       "      <th>1</th>\n",
       "      <td>M1</td>\n",
       "      <td>-11.2</td>\n",
       "      <td>53.1266</td>\n",
       "      <td>2001-02-06T13:00:00Z</td>\n",
       "      <td>967.6</td>\n",
       "      <td>270.0</td>\n",
       "      <td>21.98</td>\n",
       "      <td>33.1</td>\n",
       "      <td>NaN</td>\n",
       "      <td>NaN</td>\n",
       "      <td>NaN</td>\n",
       "      <td>NaN</td>\n",
       "      <td>8.9</td>\n",
       "      <td>NaN</td>\n",
       "      <td>9.0</td>\n",
       "      <td>NaN</td>\n",
       "      <td>1.0</td>\n",
       "    </tr>\n",
       "    <tr>\n",
       "      <th>2</th>\n",
       "      <td>M1</td>\n",
       "      <td>-11.2</td>\n",
       "      <td>53.1266</td>\n",
       "      <td>2001-02-06T14:00:00Z</td>\n",
       "      <td>969.8</td>\n",
       "      <td>270.0</td>\n",
       "      <td>23.93</td>\n",
       "      <td>35.0</td>\n",
       "      <td>NaN</td>\n",
       "      <td>NaN</td>\n",
       "      <td>NaN</td>\n",
       "      <td>NaN</td>\n",
       "      <td>8.5</td>\n",
       "      <td>NaN</td>\n",
       "      <td>9.0</td>\n",
       "      <td>NaN</td>\n",
       "      <td>1.0</td>\n",
       "    </tr>\n",
       "    <tr>\n",
       "      <th>3</th>\n",
       "      <td>M1</td>\n",
       "      <td>-11.2</td>\n",
       "      <td>53.1266</td>\n",
       "      <td>2001-02-06T15:00:00Z</td>\n",
       "      <td>972.0</td>\n",
       "      <td>270.0</td>\n",
       "      <td>19.07</td>\n",
       "      <td>31.1</td>\n",
       "      <td>NaN</td>\n",
       "      <td>NaN</td>\n",
       "      <td>NaN</td>\n",
       "      <td>NaN</td>\n",
       "      <td>8.9</td>\n",
       "      <td>NaN</td>\n",
       "      <td>9.0</td>\n",
       "      <td>NaN</td>\n",
       "      <td>1.0</td>\n",
       "    </tr>\n",
       "    <tr>\n",
       "      <th>4</th>\n",
       "      <td>M1</td>\n",
       "      <td>-11.2</td>\n",
       "      <td>53.1266</td>\n",
       "      <td>2001-02-06T16:00:00Z</td>\n",
       "      <td>973.6</td>\n",
       "      <td>270.0</td>\n",
       "      <td>15.95</td>\n",
       "      <td>25.3</td>\n",
       "      <td>NaN</td>\n",
       "      <td>NaN</td>\n",
       "      <td>NaN</td>\n",
       "      <td>NaN</td>\n",
       "      <td>9.1</td>\n",
       "      <td>NaN</td>\n",
       "      <td>9.0</td>\n",
       "      <td>NaN</td>\n",
       "      <td>1.0</td>\n",
       "    </tr>\n",
       "  </tbody>\n",
       "</table>\n",
       "</div>"
      ],
      "text/plain": [
       "  station_id     longitude       latitude                  time  \\\n",
       "0        NaN  degrees_east  degrees_north                   UTC   \n",
       "1         M1         -11.2        53.1266  2001-02-06T13:00:00Z   \n",
       "2         M1         -11.2        53.1266  2001-02-06T14:00:00Z   \n",
       "3         M1         -11.2        53.1266  2001-02-06T15:00:00Z   \n",
       "4         M1         -11.2        53.1266  2001-02-06T16:00:00Z   \n",
       "\n",
       "  AtmosphericPressure WindDirection WindSpeed   Gust WaveHeight WavePeriod  \\\n",
       "0           millibars  degrees true     knots  knots     meters    seconds   \n",
       "1               967.6         270.0     21.98   33.1        NaN        NaN   \n",
       "2               969.8         270.0     23.93   35.0        NaN        NaN   \n",
       "3               972.0         270.0     19.07   31.1        NaN        NaN   \n",
       "4               973.6         270.0     15.95   25.3        NaN        NaN   \n",
       "\n",
       "  MeanWaveDirection    Hmax AirTemperature   DewPoint SeaTemperature  \\\n",
       "0      degrees_true  meters      degrees_C  degrees_C      degrees_C   \n",
       "1               NaN     NaN            8.9        NaN            9.0   \n",
       "2               NaN     NaN            8.5        NaN            9.0   \n",
       "3               NaN     NaN            8.9        NaN            9.0   \n",
       "4               NaN     NaN            9.1        NaN            9.0   \n",
       "\n",
       "  RelativeHumidity  QC_Flag  \n",
       "0          percent      NaN  \n",
       "1              NaN      1.0  \n",
       "2              NaN      1.0  \n",
       "3              NaN      1.0  \n",
       "4              NaN      1.0  "
      ]
     },
     "execution_count": 2,
     "metadata": {},
     "output_type": "execute_result"
    }
   ],
   "source": [
    "df.head()"
   ]
  },
  {
   "cell_type": "code",
   "execution_count": 3,
   "metadata": {},
   "outputs": [],
   "source": [
    "df.drop([\"longitude\",\"latitude\", \"WaveHeight\", \"WavePeriod\", \"MeanWaveDirection\", \"Hmax\",\"QC_Flag\"],inplace = True, axis = 1)"
   ]
  },
  {
   "cell_type": "code",
   "execution_count": 4,
   "metadata": {},
   "outputs": [
    {
     "data": {
      "text/html": [
       "<div>\n",
       "<style scoped>\n",
       "    .dataframe tbody tr th:only-of-type {\n",
       "        vertical-align: middle;\n",
       "    }\n",
       "\n",
       "    .dataframe tbody tr th {\n",
       "        vertical-align: top;\n",
       "    }\n",
       "\n",
       "    .dataframe thead th {\n",
       "        text-align: right;\n",
       "    }\n",
       "</style>\n",
       "<table border=\"1\" class=\"dataframe\">\n",
       "  <thead>\n",
       "    <tr style=\"text-align: right;\">\n",
       "      <th></th>\n",
       "      <th>station_id</th>\n",
       "      <th>time</th>\n",
       "      <th>AtmosphericPressure</th>\n",
       "      <th>WindDirection</th>\n",
       "      <th>WindSpeed</th>\n",
       "      <th>Gust</th>\n",
       "      <th>AirTemperature</th>\n",
       "      <th>DewPoint</th>\n",
       "      <th>SeaTemperature</th>\n",
       "      <th>RelativeHumidity</th>\n",
       "    </tr>\n",
       "  </thead>\n",
       "  <tbody>\n",
       "    <tr>\n",
       "      <th>0</th>\n",
       "      <td>NaN</td>\n",
       "      <td>UTC</td>\n",
       "      <td>millibars</td>\n",
       "      <td>degrees true</td>\n",
       "      <td>knots</td>\n",
       "      <td>knots</td>\n",
       "      <td>degrees_C</td>\n",
       "      <td>degrees_C</td>\n",
       "      <td>degrees_C</td>\n",
       "      <td>percent</td>\n",
       "    </tr>\n",
       "    <tr>\n",
       "      <th>1</th>\n",
       "      <td>M1</td>\n",
       "      <td>2001-02-06T13:00:00Z</td>\n",
       "      <td>967.6</td>\n",
       "      <td>270.0</td>\n",
       "      <td>21.98</td>\n",
       "      <td>33.1</td>\n",
       "      <td>8.9</td>\n",
       "      <td>NaN</td>\n",
       "      <td>9.0</td>\n",
       "      <td>NaN</td>\n",
       "    </tr>\n",
       "    <tr>\n",
       "      <th>2</th>\n",
       "      <td>M1</td>\n",
       "      <td>2001-02-06T14:00:00Z</td>\n",
       "      <td>969.8</td>\n",
       "      <td>270.0</td>\n",
       "      <td>23.93</td>\n",
       "      <td>35.0</td>\n",
       "      <td>8.5</td>\n",
       "      <td>NaN</td>\n",
       "      <td>9.0</td>\n",
       "      <td>NaN</td>\n",
       "    </tr>\n",
       "    <tr>\n",
       "      <th>3</th>\n",
       "      <td>M1</td>\n",
       "      <td>2001-02-06T15:00:00Z</td>\n",
       "      <td>972.0</td>\n",
       "      <td>270.0</td>\n",
       "      <td>19.07</td>\n",
       "      <td>31.1</td>\n",
       "      <td>8.9</td>\n",
       "      <td>NaN</td>\n",
       "      <td>9.0</td>\n",
       "      <td>NaN</td>\n",
       "    </tr>\n",
       "    <tr>\n",
       "      <th>4</th>\n",
       "      <td>M1</td>\n",
       "      <td>2001-02-06T16:00:00Z</td>\n",
       "      <td>973.6</td>\n",
       "      <td>270.0</td>\n",
       "      <td>15.95</td>\n",
       "      <td>25.3</td>\n",
       "      <td>9.1</td>\n",
       "      <td>NaN</td>\n",
       "      <td>9.0</td>\n",
       "      <td>NaN</td>\n",
       "    </tr>\n",
       "  </tbody>\n",
       "</table>\n",
       "</div>"
      ],
      "text/plain": [
       "  station_id                  time AtmosphericPressure WindDirection  \\\n",
       "0        NaN                   UTC           millibars  degrees true   \n",
       "1         M1  2001-02-06T13:00:00Z               967.6         270.0   \n",
       "2         M1  2001-02-06T14:00:00Z               969.8         270.0   \n",
       "3         M1  2001-02-06T15:00:00Z               972.0         270.0   \n",
       "4         M1  2001-02-06T16:00:00Z               973.6         270.0   \n",
       "\n",
       "  WindSpeed   Gust AirTemperature   DewPoint SeaTemperature RelativeHumidity  \n",
       "0     knots  knots      degrees_C  degrees_C      degrees_C          percent  \n",
       "1     21.98   33.1            8.9        NaN            9.0              NaN  \n",
       "2     23.93   35.0            8.5        NaN            9.0              NaN  \n",
       "3     19.07   31.1            8.9        NaN            9.0              NaN  \n",
       "4     15.95   25.3            9.1        NaN            9.0              NaN  "
      ]
     },
     "execution_count": 4,
     "metadata": {},
     "output_type": "execute_result"
    }
   ],
   "source": [
    "df.head()"
   ]
  },
  {
   "cell_type": "code",
   "execution_count": 5,
   "metadata": {},
   "outputs": [],
   "source": [
    "# Removed Values starting before 2010 \n",
    "df = df.iloc[331371:]"
   ]
  },
  {
   "cell_type": "code",
   "execution_count": 6,
   "metadata": {},
   "outputs": [],
   "source": [
    "buoy_ident = { 'M2':1 , 'M3': 2, 'M4':3, 'M5': 4, 'M6': 5}\n",
    "#buoys = ['M2', 'M3', 'M4', 'M5','M6']"
   ]
  },
  {
   "cell_type": "code",
   "execution_count": 7,
   "metadata": {},
   "outputs": [
    {
     "data": {
      "text/plain": [
       "6"
      ]
     },
     "execution_count": 7,
     "metadata": {},
     "output_type": "execute_result"
    }
   ],
   "source": [
    "# Checking number of unique values in station_id ===> 6 different station ids, Will only M1 to M5\n",
    "df.station_id.nunique()"
   ]
  },
  {
   "cell_type": "code",
   "execution_count": null,
   "metadata": {},
   "outputs": [],
   "source": []
  },
  {
   "cell_type": "code",
   "execution_count": 8,
   "metadata": {},
   "outputs": [],
   "source": [
    "# Selecting only the values of rows that have buoys ident as M2 to M6\n",
    "df = df.loc[df.station_id.isin(buoy_ident.keys()) ]"
   ]
  },
  {
   "cell_type": "code",
   "execution_count": 9,
   "metadata": {},
   "outputs": [],
   "source": [
    "df = df.drop([\"time\"], axis = 1)"
   ]
  },
  {
   "cell_type": "code",
   "execution_count": 10,
   "metadata": {},
   "outputs": [
    {
     "data": {
      "text/plain": [
       "array(['M2', 'M6', 'M5', 'M4', 'M3'], dtype=object)"
      ]
     },
     "execution_count": 10,
     "metadata": {},
     "output_type": "execute_result"
    }
   ],
   "source": [
    "df.station_id.unique()"
   ]
  },
  {
   "cell_type": "code",
   "execution_count": 11,
   "metadata": {},
   "outputs": [],
   "source": [
    "df = df.replace({ 'station_id': buoy_ident})"
   ]
  },
  {
   "cell_type": "code",
   "execution_count": 12,
   "metadata": {},
   "outputs": [
    {
     "data": {
      "text/html": [
       "<div>\n",
       "<style scoped>\n",
       "    .dataframe tbody tr th:only-of-type {\n",
       "        vertical-align: middle;\n",
       "    }\n",
       "\n",
       "    .dataframe tbody tr th {\n",
       "        vertical-align: top;\n",
       "    }\n",
       "\n",
       "    .dataframe thead th {\n",
       "        text-align: right;\n",
       "    }\n",
       "</style>\n",
       "<table border=\"1\" class=\"dataframe\">\n",
       "  <thead>\n",
       "    <tr style=\"text-align: right;\">\n",
       "      <th></th>\n",
       "      <th>station_id</th>\n",
       "      <th>AtmosphericPressure</th>\n",
       "      <th>WindDirection</th>\n",
       "      <th>WindSpeed</th>\n",
       "      <th>Gust</th>\n",
       "      <th>AirTemperature</th>\n",
       "      <th>DewPoint</th>\n",
       "      <th>SeaTemperature</th>\n",
       "      <th>RelativeHumidity</th>\n",
       "    </tr>\n",
       "  </thead>\n",
       "  <tbody>\n",
       "    <tr>\n",
       "      <th>331371</th>\n",
       "      <td>1</td>\n",
       "      <td>1007.2</td>\n",
       "      <td>50</td>\n",
       "      <td>17</td>\n",
       "      <td>25</td>\n",
       "      <td>5.5</td>\n",
       "      <td>-1.1</td>\n",
       "      <td>10.3</td>\n",
       "      <td>62</td>\n",
       "    </tr>\n",
       "    <tr>\n",
       "      <th>331372</th>\n",
       "      <td>5</td>\n",
       "      <td>1015.8</td>\n",
       "      <td>20</td>\n",
       "      <td>18</td>\n",
       "      <td>33</td>\n",
       "      <td>7</td>\n",
       "      <td>0.9</td>\n",
       "      <td>11.4</td>\n",
       "      <td>65</td>\n",
       "    </tr>\n",
       "    <tr>\n",
       "      <th>331373</th>\n",
       "      <td>4</td>\n",
       "      <td>1006.2</td>\n",
       "      <td>NaN</td>\n",
       "      <td>NaN</td>\n",
       "      <td>NaN</td>\n",
       "      <td>5.3</td>\n",
       "      <td>1.7</td>\n",
       "      <td>10.6</td>\n",
       "      <td>78</td>\n",
       "    </tr>\n",
       "    <tr>\n",
       "      <th>331374</th>\n",
       "      <td>3</td>\n",
       "      <td>1011.2</td>\n",
       "      <td>10</td>\n",
       "      <td>12</td>\n",
       "      <td>20</td>\n",
       "      <td>4.7</td>\n",
       "      <td>1.1</td>\n",
       "      <td>10.2</td>\n",
       "      <td>78</td>\n",
       "    </tr>\n",
       "    <tr>\n",
       "      <th>331375</th>\n",
       "      <td>2</td>\n",
       "      <td>1009.4</td>\n",
       "      <td>30</td>\n",
       "      <td>17</td>\n",
       "      <td>25</td>\n",
       "      <td>5.7</td>\n",
       "      <td>-1.2</td>\n",
       "      <td>10.4</td>\n",
       "      <td>61</td>\n",
       "    </tr>\n",
       "  </tbody>\n",
       "</table>\n",
       "</div>"
      ],
      "text/plain": [
       "        station_id AtmosphericPressure WindDirection WindSpeed Gust  \\\n",
       "331371           1              1007.2            50        17   25   \n",
       "331372           5              1015.8            20        18   33   \n",
       "331373           4              1006.2           NaN       NaN  NaN   \n",
       "331374           3              1011.2            10        12   20   \n",
       "331375           2              1009.4            30        17   25   \n",
       "\n",
       "       AirTemperature DewPoint SeaTemperature RelativeHumidity  \n",
       "331371            5.5     -1.1           10.3               62  \n",
       "331372              7      0.9           11.4               65  \n",
       "331373            5.3      1.7           10.6               78  \n",
       "331374            4.7      1.1           10.2               78  \n",
       "331375            5.7     -1.2           10.4               61  "
      ]
     },
     "execution_count": 12,
     "metadata": {},
     "output_type": "execute_result"
    }
   ],
   "source": [
    "df.head()"
   ]
  },
  {
   "cell_type": "code",
   "execution_count": 13,
   "metadata": {},
   "outputs": [],
   "source": [
    "df = df.dropna(axis = 1, how='all')\n"
   ]
  },
  {
   "cell_type": "code",
   "execution_count": 14,
   "metadata": {},
   "outputs": [],
   "source": [
    "df.reset_index(inplace = True)"
   ]
  },
  {
   "cell_type": "code",
   "execution_count": 15,
   "metadata": {},
   "outputs": [],
   "source": [
    "df.dropna(inplace = True, how = 'all')"
   ]
  },
  {
   "cell_type": "code",
   "execution_count": 16,
   "metadata": {},
   "outputs": [
    {
     "data": {
      "text/html": [
       "<div>\n",
       "<style scoped>\n",
       "    .dataframe tbody tr th:only-of-type {\n",
       "        vertical-align: middle;\n",
       "    }\n",
       "\n",
       "    .dataframe tbody tr th {\n",
       "        vertical-align: top;\n",
       "    }\n",
       "\n",
       "    .dataframe thead th {\n",
       "        text-align: right;\n",
       "    }\n",
       "</style>\n",
       "<table border=\"1\" class=\"dataframe\">\n",
       "  <thead>\n",
       "    <tr style=\"text-align: right;\">\n",
       "      <th></th>\n",
       "      <th>index</th>\n",
       "      <th>station_id</th>\n",
       "      <th>AtmosphericPressure</th>\n",
       "      <th>WindDirection</th>\n",
       "      <th>WindSpeed</th>\n",
       "      <th>Gust</th>\n",
       "      <th>AirTemperature</th>\n",
       "      <th>DewPoint</th>\n",
       "      <th>SeaTemperature</th>\n",
       "      <th>RelativeHumidity</th>\n",
       "    </tr>\n",
       "  </thead>\n",
       "  <tbody>\n",
       "    <tr>\n",
       "      <th>0</th>\n",
       "      <td>331371</td>\n",
       "      <td>1</td>\n",
       "      <td>1007.2</td>\n",
       "      <td>50</td>\n",
       "      <td>17</td>\n",
       "      <td>25</td>\n",
       "      <td>5.5</td>\n",
       "      <td>-1.1</td>\n",
       "      <td>10.3</td>\n",
       "      <td>62</td>\n",
       "    </tr>\n",
       "    <tr>\n",
       "      <th>1</th>\n",
       "      <td>331372</td>\n",
       "      <td>5</td>\n",
       "      <td>1015.8</td>\n",
       "      <td>20</td>\n",
       "      <td>18</td>\n",
       "      <td>33</td>\n",
       "      <td>7</td>\n",
       "      <td>0.9</td>\n",
       "      <td>11.4</td>\n",
       "      <td>65</td>\n",
       "    </tr>\n",
       "    <tr>\n",
       "      <th>2</th>\n",
       "      <td>331373</td>\n",
       "      <td>4</td>\n",
       "      <td>1006.2</td>\n",
       "      <td>NaN</td>\n",
       "      <td>NaN</td>\n",
       "      <td>NaN</td>\n",
       "      <td>5.3</td>\n",
       "      <td>1.7</td>\n",
       "      <td>10.6</td>\n",
       "      <td>78</td>\n",
       "    </tr>\n",
       "    <tr>\n",
       "      <th>3</th>\n",
       "      <td>331374</td>\n",
       "      <td>3</td>\n",
       "      <td>1011.2</td>\n",
       "      <td>10</td>\n",
       "      <td>12</td>\n",
       "      <td>20</td>\n",
       "      <td>4.7</td>\n",
       "      <td>1.1</td>\n",
       "      <td>10.2</td>\n",
       "      <td>78</td>\n",
       "    </tr>\n",
       "    <tr>\n",
       "      <th>4</th>\n",
       "      <td>331375</td>\n",
       "      <td>2</td>\n",
       "      <td>1009.4</td>\n",
       "      <td>30</td>\n",
       "      <td>17</td>\n",
       "      <td>25</td>\n",
       "      <td>5.7</td>\n",
       "      <td>-1.2</td>\n",
       "      <td>10.4</td>\n",
       "      <td>61</td>\n",
       "    </tr>\n",
       "  </tbody>\n",
       "</table>\n",
       "</div>"
      ],
      "text/plain": [
       "    index  station_id AtmosphericPressure WindDirection WindSpeed Gust  \\\n",
       "0  331371           1              1007.2            50        17   25   \n",
       "1  331372           5              1015.8            20        18   33   \n",
       "2  331373           4              1006.2           NaN       NaN  NaN   \n",
       "3  331374           3              1011.2            10        12   20   \n",
       "4  331375           2              1009.4            30        17   25   \n",
       "\n",
       "  AirTemperature DewPoint SeaTemperature RelativeHumidity  \n",
       "0            5.5     -1.1           10.3               62  \n",
       "1              7      0.9           11.4               65  \n",
       "2            5.3      1.7           10.6               78  \n",
       "3            4.7      1.1           10.2               78  \n",
       "4            5.7     -1.2           10.4               61  "
      ]
     },
     "execution_count": 16,
     "metadata": {},
     "output_type": "execute_result"
    }
   ],
   "source": [
    "df.head()"
   ]
  },
  {
   "cell_type": "code",
   "execution_count": 17,
   "metadata": {},
   "outputs": [],
   "source": [
    "df = df.dropna()\n",
    "df.drop('index', 1)\n",
    "df.reset_index(inplace= True)"
   ]
  },
  {
   "cell_type": "code",
   "execution_count": 18,
   "metadata": {},
   "outputs": [
    {
     "data": {
      "text/html": [
       "<div>\n",
       "<style scoped>\n",
       "    .dataframe tbody tr th:only-of-type {\n",
       "        vertical-align: middle;\n",
       "    }\n",
       "\n",
       "    .dataframe tbody tr th {\n",
       "        vertical-align: top;\n",
       "    }\n",
       "\n",
       "    .dataframe thead th {\n",
       "        text-align: right;\n",
       "    }\n",
       "</style>\n",
       "<table border=\"1\" class=\"dataframe\">\n",
       "  <thead>\n",
       "    <tr style=\"text-align: right;\">\n",
       "      <th></th>\n",
       "      <th>level_0</th>\n",
       "      <th>index</th>\n",
       "      <th>station_id</th>\n",
       "      <th>AtmosphericPressure</th>\n",
       "      <th>WindDirection</th>\n",
       "      <th>WindSpeed</th>\n",
       "      <th>Gust</th>\n",
       "      <th>AirTemperature</th>\n",
       "      <th>DewPoint</th>\n",
       "      <th>SeaTemperature</th>\n",
       "      <th>RelativeHumidity</th>\n",
       "    </tr>\n",
       "  </thead>\n",
       "  <tbody>\n",
       "    <tr>\n",
       "      <th>0</th>\n",
       "      <td>0</td>\n",
       "      <td>331371</td>\n",
       "      <td>1</td>\n",
       "      <td>1007.2</td>\n",
       "      <td>50</td>\n",
       "      <td>17</td>\n",
       "      <td>25</td>\n",
       "      <td>5.5</td>\n",
       "      <td>-1.1</td>\n",
       "      <td>10.3</td>\n",
       "      <td>62</td>\n",
       "    </tr>\n",
       "    <tr>\n",
       "      <th>1</th>\n",
       "      <td>1</td>\n",
       "      <td>331372</td>\n",
       "      <td>5</td>\n",
       "      <td>1015.8</td>\n",
       "      <td>20</td>\n",
       "      <td>18</td>\n",
       "      <td>33</td>\n",
       "      <td>7</td>\n",
       "      <td>0.9</td>\n",
       "      <td>11.4</td>\n",
       "      <td>65</td>\n",
       "    </tr>\n",
       "    <tr>\n",
       "      <th>2</th>\n",
       "      <td>3</td>\n",
       "      <td>331374</td>\n",
       "      <td>3</td>\n",
       "      <td>1011.2</td>\n",
       "      <td>10</td>\n",
       "      <td>12</td>\n",
       "      <td>20</td>\n",
       "      <td>4.7</td>\n",
       "      <td>1.1</td>\n",
       "      <td>10.2</td>\n",
       "      <td>78</td>\n",
       "    </tr>\n",
       "    <tr>\n",
       "      <th>3</th>\n",
       "      <td>4</td>\n",
       "      <td>331375</td>\n",
       "      <td>2</td>\n",
       "      <td>1009.4</td>\n",
       "      <td>30</td>\n",
       "      <td>17</td>\n",
       "      <td>25</td>\n",
       "      <td>5.7</td>\n",
       "      <td>-1.2</td>\n",
       "      <td>10.4</td>\n",
       "      <td>61</td>\n",
       "    </tr>\n",
       "    <tr>\n",
       "      <th>4</th>\n",
       "      <td>5</td>\n",
       "      <td>331376</td>\n",
       "      <td>2</td>\n",
       "      <td>1009</td>\n",
       "      <td>20</td>\n",
       "      <td>18</td>\n",
       "      <td>25</td>\n",
       "      <td>5.3</td>\n",
       "      <td>-0.3</td>\n",
       "      <td>10.4</td>\n",
       "      <td>67</td>\n",
       "    </tr>\n",
       "  </tbody>\n",
       "</table>\n",
       "</div>"
      ],
      "text/plain": [
       "   level_0   index  station_id AtmosphericPressure WindDirection WindSpeed  \\\n",
       "0        0  331371           1              1007.2            50        17   \n",
       "1        1  331372           5              1015.8            20        18   \n",
       "2        3  331374           3              1011.2            10        12   \n",
       "3        4  331375           2              1009.4            30        17   \n",
       "4        5  331376           2                1009            20        18   \n",
       "\n",
       "  Gust AirTemperature DewPoint SeaTemperature RelativeHumidity  \n",
       "0   25            5.5     -1.1           10.3               62  \n",
       "1   33              7      0.9           11.4               65  \n",
       "2   20            4.7      1.1           10.2               78  \n",
       "3   25            5.7     -1.2           10.4               61  \n",
       "4   25            5.3     -0.3           10.4               67  "
      ]
     },
     "execution_count": 18,
     "metadata": {},
     "output_type": "execute_result"
    }
   ],
   "source": [
    "df.isna()\n",
    "df.head()"
   ]
  },
  {
   "cell_type": "code",
   "execution_count": 19,
   "metadata": {},
   "outputs": [],
   "source": [
    "df.corr(method='pearson')\n",
    "\n",
    "from sklearn.preprocessing import StandardScaler\n",
    "df_stand = StandardScaler().fit_transform(df.values)\n",
    "\n",
    "from sklearn.decomposition import PCA\n",
    "pca=PCA(0.95)\n",
    "pca.fit(df_stand[:,:-1])\n",
    "x=pca.transform(df_stand[:,:-1])"
   ]
  },
  {
   "cell_type": "code",
   "execution_count": 20,
   "metadata": {},
   "outputs": [
    {
     "data": {
      "text/plain": [
       "array([[ 4.18631191,  0.79461991,  0.30714909,  1.23090625,  0.3804643 ,\n",
       "        -1.48981971],\n",
       "       [ 2.41616976,  1.3095576 , -0.18540937,  1.76304523, -0.49185769,\n",
       "         1.33085769],\n",
       "       [ 3.70654153,  0.38335277, -0.81209144,  1.65478673,  0.49826403,\n",
       "        -0.03206536],\n",
       "       [ 3.89874539,  0.88141475, -0.00966469,  1.45982913,  0.23746472,\n",
       "        -0.790238  ],\n",
       "       [ 3.86944491,  0.93279791,  0.07351626,  1.61075868,  0.20973082,\n",
       "        -0.77964909]])"
      ]
     },
     "execution_count": 20,
     "metadata": {},
     "output_type": "execute_result"
    }
   ],
   "source": [
    "x[0:5, :]"
   ]
  },
  {
   "cell_type": "code",
   "execution_count": 21,
   "metadata": {},
   "outputs": [],
   "source": [
    "y = df_stand[:,-1]"
   ]
  },
  {
   "cell_type": "code",
   "execution_count": 32,
   "metadata": {},
   "outputs": [
    {
     "ename": "RuntimeError",
     "evalue": "Physical devices cannot be modified after being initialized",
     "output_type": "error",
     "traceback": [
      "\u001b[1;31m---------------------------------------------------------------------------\u001b[0m",
      "\u001b[1;31mRuntimeError\u001b[0m                              Traceback (most recent call last)",
      "\u001b[1;32m<ipython-input-32-649322ba3a58>\u001b[0m in \u001b[0;36m<module>\u001b[1;34m\u001b[0m\n\u001b[0;32m      9\u001b[0m \u001b[1;32mfrom\u001b[0m \u001b[0msklearn\u001b[0m\u001b[1;33m.\u001b[0m\u001b[0mpipeline\u001b[0m \u001b[1;32mimport\u001b[0m \u001b[0mPipeline\u001b[0m\u001b[1;33m\u001b[0m\u001b[1;33m\u001b[0m\u001b[0m\n\u001b[0;32m     10\u001b[0m \u001b[0mphysical_devices\u001b[0m \u001b[1;33m=\u001b[0m \u001b[0mtf\u001b[0m\u001b[1;33m.\u001b[0m\u001b[0mconfig\u001b[0m\u001b[1;33m.\u001b[0m\u001b[0mlist_physical_devices\u001b[0m\u001b[1;33m(\u001b[0m\u001b[1;34m'GPU'\u001b[0m\u001b[1;33m)\u001b[0m\u001b[1;33m\u001b[0m\u001b[1;33m\u001b[0m\u001b[0m\n\u001b[1;32m---> 11\u001b[1;33m \u001b[0mtf\u001b[0m\u001b[1;33m.\u001b[0m\u001b[0mconfig\u001b[0m\u001b[1;33m.\u001b[0m\u001b[0mexperimental\u001b[0m\u001b[1;33m.\u001b[0m\u001b[0mset_memory_growth\u001b[0m\u001b[1;33m(\u001b[0m\u001b[0mphysical_devices\u001b[0m\u001b[1;33m[\u001b[0m\u001b[1;36m0\u001b[0m\u001b[1;33m]\u001b[0m\u001b[1;33m,\u001b[0m \u001b[1;32mTrue\u001b[0m\u001b[1;33m)\u001b[0m\u001b[1;33m\u001b[0m\u001b[1;33m\u001b[0m\u001b[0m\n\u001b[0m",
      "\u001b[1;32m~\\anaconda3\\lib\\site-packages\\tensorflow\\python\\framework\\config.py\u001b[0m in \u001b[0;36mset_memory_growth\u001b[1;34m(device, enable)\u001b[0m\n\u001b[0;32m    529\u001b[0m     \u001b[0mRuntimeError\u001b[0m\u001b[1;33m:\u001b[0m \u001b[0mRuntime\u001b[0m \u001b[1;32mis\u001b[0m \u001b[0malready\u001b[0m \u001b[0minitialized\u001b[0m\u001b[1;33m.\u001b[0m\u001b[1;33m\u001b[0m\u001b[1;33m\u001b[0m\u001b[0m\n\u001b[0;32m    530\u001b[0m   \"\"\"\n\u001b[1;32m--> 531\u001b[1;33m   \u001b[0mcontext\u001b[0m\u001b[1;33m.\u001b[0m\u001b[0mcontext\u001b[0m\u001b[1;33m(\u001b[0m\u001b[1;33m)\u001b[0m\u001b[1;33m.\u001b[0m\u001b[0mset_memory_growth\u001b[0m\u001b[1;33m(\u001b[0m\u001b[0mdevice\u001b[0m\u001b[1;33m,\u001b[0m \u001b[0menable\u001b[0m\u001b[1;33m)\u001b[0m\u001b[1;33m\u001b[0m\u001b[1;33m\u001b[0m\u001b[0m\n\u001b[0m\u001b[0;32m    532\u001b[0m \u001b[1;33m\u001b[0m\u001b[0m\n\u001b[0;32m    533\u001b[0m \u001b[1;33m\u001b[0m\u001b[0m\n",
      "\u001b[1;32m~\\anaconda3\\lib\\site-packages\\tensorflow\\python\\eager\\context.py\u001b[0m in \u001b[0;36mset_memory_growth\u001b[1;34m(self, dev, enable)\u001b[0m\n\u001b[0;32m   1416\u001b[0m \u001b[1;33m\u001b[0m\u001b[0m\n\u001b[0;32m   1417\u001b[0m     \u001b[1;32mif\u001b[0m \u001b[0mself\u001b[0m\u001b[1;33m.\u001b[0m\u001b[0m_context_handle\u001b[0m \u001b[1;32mis\u001b[0m \u001b[1;32mnot\u001b[0m \u001b[1;32mNone\u001b[0m\u001b[1;33m:\u001b[0m\u001b[1;33m\u001b[0m\u001b[1;33m\u001b[0m\u001b[0m\n\u001b[1;32m-> 1418\u001b[1;33m       raise RuntimeError(\n\u001b[0m\u001b[0;32m   1419\u001b[0m           \"Physical devices cannot be modified after being initialized\")\n\u001b[0;32m   1420\u001b[0m \u001b[1;33m\u001b[0m\u001b[0m\n",
      "\u001b[1;31mRuntimeError\u001b[0m: Physical devices cannot be modified after being initialized"
     ]
    }
   ],
   "source": [
    "import tensorflow as tf\n",
    "from tensorflow import keras\n",
    "from tensorflow.keras import layers\n",
    "from tensorflow.keras.layers import Dense, Dropout, Activation, Flatten, BatchNormalization\n",
    "from tensorflow.keras.wrappers.scikit_learn import KerasRegressor\n",
    "from sklearn.model_selection import cross_val_score\n",
    "from sklearn.model_selection import KFold\n",
    "from sklearn.preprocessing import StandardScaler\n",
    "from sklearn.pipeline import Pipeline\n"
   ]
  },
  {
   "cell_type": "code",
   "execution_count": 33,
   "metadata": {},
   "outputs": [
    {
     "name": "stdout",
     "output_type": "stream",
     "text": [
      "Epoch 1/30\n",
      "21/21 [==============================] - 0s 15ms/step - loss: 1.0002\n",
      "Epoch 2/30\n",
      "21/21 [==============================] - 0s 15ms/step - loss: 1.0002\n",
      "Epoch 3/30\n",
      "21/21 [==============================] - 0s 15ms/step - loss: 1.0001\n",
      "Epoch 4/30\n",
      "21/21 [==============================] - 0s 15ms/step - loss: 1.0001\n",
      "Epoch 5/30\n",
      "21/21 [==============================] - 0s 15ms/step - loss: 1.0001\n",
      "Epoch 6/30\n",
      "21/21 [==============================] - 0s 15ms/step - loss: 1.0001\n",
      "Epoch 7/30\n",
      "21/21 [==============================] - 0s 15ms/step - loss: 1.0001\n",
      "Epoch 8/30\n",
      "21/21 [==============================] - 0s 15ms/step - loss: 1.0001\n",
      "Epoch 9/30\n",
      "21/21 [==============================] - 0s 15ms/step - loss: 1.0000\n",
      "Epoch 10/30\n",
      "21/21 [==============================] - 0s 15ms/step - loss: 1.0000\n",
      "Epoch 11/30\n",
      "21/21 [==============================] - 0s 15ms/step - loss: 1.0000\n",
      "Epoch 12/30\n",
      "21/21 [==============================] - 0s 15ms/step - loss: 1.0000\n",
      "Epoch 13/30\n",
      "21/21 [==============================] - 0s 15ms/step - loss: 1.0000\n",
      "Epoch 14/30\n",
      "21/21 [==============================] - 0s 15ms/step - loss: 1.0000\n",
      "Epoch 15/30\n",
      "21/21 [==============================] - 0s 15ms/step - loss: 1.0000\n",
      "Epoch 16/30\n",
      "21/21 [==============================] - 0s 15ms/step - loss: 1.0000\n",
      "Epoch 17/30\n",
      "21/21 [==============================] - 0s 15ms/step - loss: 1.0000\n",
      "Epoch 18/30\n",
      "21/21 [==============================] - 0s 15ms/step - loss: 1.0000\n",
      "Epoch 19/30\n",
      "21/21 [==============================] - 0s 15ms/step - loss: 1.0000\n",
      "Epoch 20/30\n",
      "21/21 [==============================] - 0s 15ms/step - loss: 1.0000\n",
      "Epoch 21/30\n",
      "21/21 [==============================] - 0s 15ms/step - loss: 1.0000\n",
      "Epoch 22/30\n",
      "21/21 [==============================] - 0s 15ms/step - loss: 1.0000\n",
      "Epoch 23/30\n",
      "21/21 [==============================] - 0s 15ms/step - loss: 1.0000\n",
      "Epoch 24/30\n",
      "21/21 [==============================] - 0s 15ms/step - loss: 1.0000\n",
      "Epoch 25/30\n",
      "21/21 [==============================] - 0s 15ms/step - loss: 1.0000\n",
      "Epoch 26/30\n",
      "21/21 [==============================] - 0s 15ms/step - loss: 1.0000\n",
      "Epoch 27/30\n",
      "21/21 [==============================] - 0s 15ms/step - loss: 1.0000\n",
      "Epoch 28/30\n",
      "21/21 [==============================] - 0s 15ms/step - loss: 1.0000\n",
      "Epoch 29/30\n",
      "21/21 [==============================] - 0s 15ms/step - loss: 1.0000\n",
      "Epoch 30/30\n",
      "21/21 [==============================] - 0s 15ms/step - loss: 1.0000\n"
     ]
    }
   ],
   "source": [
    "def model1():    \n",
    "    model = keras.Sequential()\n",
    "    model.add(Dense(10, activation = \"relu\",input_dim = 6, name = \"layer1\", kernel_initializer='normal'))\n",
    "    model.add(Dense(500, activation = \"relu\", name = \"layer2\"))\n",
    "\n",
    "    model.add(Dense(1000, activation = \"sigmoid\", name = \"layer3\"))\n",
    "    model.add(Dense(500, activation = \"relu\", name = \"layer4\"))\n",
    "    model.add(Dense(50, activation = \"relu\", name = \"layer5\"))\n",
    "\n",
    "    model.add(Dense(1, activation = \"relu\", name = \"layer6\",kernel_regularizer = tf.keras.regularizers.L2(0.0001)))\n",
    "    model.compile(loss=\"mean_squared_error\", optimizer='adam')\n",
    "    return model\n",
    "\n",
    "batch_size = 2048\n",
    "\n",
    "estimator = KerasRegressor(build_fn=model1, epochs=30, batch_size=4096, verbose=1)\n",
    "history=estimator.fit(np.asarray(x).astype('float32'),np.asarray(y).astype('float32'))\n",
    "\n",
    "\n",
    "\n",
    "#history = model.fit(x_pca, df.iloc[:, -1], batch_size=batch_size, epochs=20, validation_split=0.1)\n",
    "# estimator = KerasRegressor(build_fn=model, epochs=100, batch_size=batch_size, verbose=0)\n",
    "# history = model.fit(np.asarray(x).astype('float32'),np.asarray(y).astype('float32') , epochs=150, batch_size=50,  verbose=1, validation_split=0.3)\n",
    "# kfold = KFold(n_splits=5)\n",
    "# results = cross_val_score(estimator,np.asarray(x).astype('float32'), np.asarray(y).astype('float32'), cv=kfold)\n",
    "# print(\"Results: %.2f (%.2f) MSE\" % (results.mean(), results.std()))"
   ]
  },
  {
   "cell_type": "code",
   "execution_count": 34,
   "metadata": {},
   "outputs": [
    {
     "data": {
      "image/png": "[encoded data removed]",
      "text/plain": [
       "<Figure size 432x288 with 1 Axes>"
      ]
     },
     "metadata": {
      "needs_background": "light"
     },
     "output_type": "display_data"
    }
   ],
   "source": [
    "import matplotlib.pyplot as plt\n",
    "plt.plot(history.history['loss'])\n",
    "\n",
    "plt.title('Model loss')\n",
    "plt.ylabel('Loss')\n",
    "plt.xlabel('Epoch')\n",
    "plt.legend(['Train', 'Test'], loc='upper left')\n",
    "plt.show()"
   ]
  },
  {
   "cell_type": "code",
   "execution_count": 35,
   "metadata": {},
   "outputs": [
    {
     "ename": "KeyError",
     "evalue": "'val_loss'",
     "output_type": "error",
     "traceback": [
      "\u001b[1;31m---------------------------------------------------------------------------\u001b[0m",
      "\u001b[1;31mKeyError\u001b[0m                                  Traceback (most recent call last)",
      "\u001b[1;32m<ipython-input-35-f842982e4432>\u001b[0m in \u001b[0;36m<module>\u001b[1;34m\u001b[0m\n\u001b[0;32m     12\u001b[0m \u001b[1;33m\u001b[0m\u001b[0m\n\u001b[0;32m     13\u001b[0m \u001b[0mplt\u001b[0m\u001b[1;33m.\u001b[0m\u001b[0mplot\u001b[0m\u001b[1;33m(\u001b[0m\u001b[0mhistory\u001b[0m\u001b[1;33m.\u001b[0m\u001b[0mhistory\u001b[0m\u001b[1;33m[\u001b[0m\u001b[1;34m'loss'\u001b[0m\u001b[1;33m]\u001b[0m\u001b[1;33m)\u001b[0m\u001b[1;33m\u001b[0m\u001b[1;33m\u001b[0m\u001b[0m\n\u001b[1;32m---> 14\u001b[1;33m \u001b[0mplt\u001b[0m\u001b[1;33m.\u001b[0m\u001b[0mplot\u001b[0m\u001b[1;33m(\u001b[0m\u001b[0mhistory\u001b[0m\u001b[1;33m.\u001b[0m\u001b[0mhistory\u001b[0m\u001b[1;33m[\u001b[0m\u001b[1;34m'val_loss'\u001b[0m\u001b[1;33m]\u001b[0m\u001b[1;33m)\u001b[0m\u001b[1;33m\u001b[0m\u001b[1;33m\u001b[0m\u001b[0m\n\u001b[0m\u001b[0;32m     15\u001b[0m \u001b[0mplt\u001b[0m\u001b[1;33m.\u001b[0m\u001b[0mtitle\u001b[0m\u001b[1;33m(\u001b[0m\u001b[1;34m'model loss'\u001b[0m\u001b[1;33m)\u001b[0m\u001b[1;33m\u001b[0m\u001b[1;33m\u001b[0m\u001b[0m\n\u001b[0;32m     16\u001b[0m \u001b[0mplt\u001b[0m\u001b[1;33m.\u001b[0m\u001b[0mylabel\u001b[0m\u001b[1;33m(\u001b[0m\u001b[1;34m'loss'\u001b[0m\u001b[1;33m)\u001b[0m\u001b[1;33m\u001b[0m\u001b[1;33m\u001b[0m\u001b[0m\n",
      "\u001b[1;31mKeyError\u001b[0m: 'val_loss'"
     ]
    },
    {
     "data": {
      "image/png": "[encoded data removed]",
      "text/plain": [
       "<Figure size 432x288 with 1 Axes>"
      ]
     },
     "metadata": {
      "needs_background": "light"
     },
     "output_type": "display_data"
    }
   ],
   "source": [
    "# preds = model.predict(x)\n",
    "\n",
    "# print(mean_squared_error(y, preds))\n",
    "#print(confusion_matrix(y_train1,y_pred))\n",
    "\n",
    "# preds = model.predict(x_test)\n",
    "# y_pred = np.argmax(preds, axis=1)\n",
    "# y_test1 = np.argmax(y_test, axis=1)\n",
    "# print(classification_report(y_test1, y_pred))\n",
    "# print(confusion_matrix(y_test1,y_pred))\n"
   ]
  },
  {
   "cell_type": "code",
   "execution_count": null,
   "metadata": {},
   "outputs": [],
   "source": [
    "x"
   ]
  },
  {
   "cell_type": "code",
   "execution_count": null,
   "metadata": {},
   "outputs": [],
   "source": []
  }
 ],
 "metadata": {
  "kernelspec": {
   "display_name": "Python 3",
   "language": "python",
   "name": "python3"
  },
  "language_info": {
   "codemirror_mode": {
    "name": "ipython",
    "version": 3
   },
   "file_extension": ".py",
   "mimetype": "text/x-python",
   "name": "python",
   "nbconvert_exporter": "python",
   "pygments_lexer": "ipython3",
   "version": "3.8.3"
  }
 },
 "nbformat": 4,
 "nbformat_minor": 4
}
